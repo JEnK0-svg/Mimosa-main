{
 "cells": [
  {
   "cell_type": "code",
   "execution_count": 1,
   "metadata": {},
   "outputs": [],
   "source": [
    "import numpy as np"
   ]
  },
  {
   "cell_type": "code",
   "execution_count": null,
   "metadata": {},
   "outputs": [],
   "source": [
    "def to_ND(rna):\n",
    "    ND_map = []\n",
    "    for base in rna:\n",
    "        base_a = base_c = base_u = base_g = base_sum = 0\n",
    "        for base in rna:\n",
    "\n",
    "            if base == \"A\":\n",
    "                base_a += 1\n",
    "                base_sum += 1\n",
    "                Di = base_a / base_sum\n",
    "\n",
    "            elif base == \"C\":\n",
    "                base_c += 1\n",
    "                base_sum += 1\n",
    "                Di = base_c / base_sum\n",
    "\n",
    "            elif base == \"U\":\n",
    "                base_c += 1\n",
    "                base_sum += 1\n",
    "                Di = base_c / base_sum\n",
    "            \n",
    "            elif base == \"G\":\n",
    "                base_c += 1\n",
    "                base_sum += 1\n",
    "                Di = base_c / base_sum\n",
    "            ND_map.append(Di)\n",
    "    return np.array(ND_map)"
   ]
  },
  {
   "cell_type": "code",
   "execution_count": null,
   "metadata": {},
   "outputs": [],
   "source": [
    "rna = ['AGCUAAAUCC']\n",
    "ND_seq = to_ND(rna)\n",
    "print(ND_seq)\n",
    "print(type(ND_seq))"
   ]
  },
  {
   "cell_type": "code",
   "execution_count": 10,
   "metadata": {},
   "outputs": [
    {
     "name": "stdout",
     "output_type": "stream",
     "text": [
      "[1 2 3 4]\n",
      "<class 'numpy.ndarray'>\n"
     ]
    }
   ],
   "source": [
    "arr = np.array([1, 2, 3, 4])\n",
    "assert type(arr) == np.ndarray\n",
    "print(arr)\n",
    "print(type(arr))"
   ]
  }
 ],
 "metadata": {
  "kernelspec": {
   "display_name": "MJnet",
   "language": "python",
   "name": "python3"
  },
  "language_info": {
   "codemirror_mode": {
    "name": "ipython",
    "version": 3
   },
   "file_extension": ".py",
   "mimetype": "text/x-python",
   "name": "python",
   "nbconvert_exporter": "python",
   "pygments_lexer": "ipython3",
   "version": "3.9.20"
  }
 },
 "nbformat": 4,
 "nbformat_minor": 2
}
