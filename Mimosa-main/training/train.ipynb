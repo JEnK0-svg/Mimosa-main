{
 "cells": [
  {
   "cell_type": "code",
   "execution_count": null,
   "metadata": {
    "colab": {
     "base_uri": "https://localhost:8080/"
    },
    "id": "611TImrx3JEe",
    "outputId": "b20c2889-08ed-4fdf-af81-10b07db6754e"
   },
   "outputs": [],
   "source": [
    "%cd sample_data/"
   ]
  },
  {
   "cell_type": "code",
   "execution_count": null,
   "metadata": {
    "colab": {
     "base_uri": "https://localhost:8080/"
    },
    "id": "BQrrSpr53S0b",
    "outputId": "4ecbf3e6-df19-4edb-8d18-93c42d76ca23"
   },
   "outputs": [],
   "source": [
    "!git clone https://github.com/JEnK0-svg/Mimosa-main.git"
   ]
  },
  {
   "cell_type": "code",
   "execution_count": null,
   "metadata": {
    "colab": {
     "base_uri": "https://localhost:8080/"
    },
    "id": "VV5E0k-_3lJi",
    "outputId": "60971a59-9fcf-4633-8301-d29ca2cad665"
   },
   "outputs": [],
   "source": [
    "%cd Mimosa-main/Mimosa-main/training"
   ]
  },
  {
   "cell_type": "code",
   "execution_count": null,
   "metadata": {
    "id": "Mmkov_aCxJFl"
   },
   "outputs": [],
   "source": [
    "import torch\n",
    "import torch.nn as nn\n",
    "import torch.optim as optim\n",
    "from torch.utils.data import DataLoader, Dataset\n",
    "import numpy as np\n",
    "import pandas as pd\n",
    "from sklearn.metrics import accuracy_score, f1_score, recall_score, precision_score\n",
    "from utils import *\n",
    "from MJnet2 import *\n",
    "\n",
    "# 固定随机种子以确保可重复性\n",
    "torch.manual_seed(40)\n",
    "torch.set_num_threads(20)\n"
   ]
  },
  {
   "cell_type": "code",
   "execution_count": null,
   "metadata": {
    "colab": {
     "base_uri": "https://localhost:8080/",
     "height": 465
    },
    "id": "thmO46xgxJFn",
    "outputId": "8b7a2498-7fe4-4a2c-cd02-b5fe4545f6c9"
   },
   "outputs": [],
   "source": [
    "train_dataset_path =  'E:\\PersonalFile\\yujunhao\\Mimosa-main\\Mimosa-main\\data\\miRAW_Train_Validation.txt'\n",
    "# test_dataset_path =  '/Data/miRAW_Test0.txt'\n",
    "perform_train(train_dataset_path)\n",
    "# perform_test(test_dataset_path, stepsize=1)"
   ]
  },
  {
   "cell_type": "code",
   "execution_count": null,
   "metadata": {
    "id": "RMF-phHdxJFo"
   },
   "outputs": [],
   "source": [
    "for i in range(10):\n",
    "    print('第{}个测试集测试结果：'.format(i + 1))\n",
    "    test_file_path = 'E:\\PersonalFile\\yujunhao\\Mimosa-main\\Mimosa-main\\data\\miRAW_Test{}.txt'.format(i)\n",
    "    perform_test(test_file_path, stepsize = 5, model_type='model_final.pth')"
   ]
  }
 ],
 "metadata": {
  "accelerator": "GPU",
  "colab": {
   "gpuType": "T4",
   "provenance": []
  },
  "kernelspec": {
   "display_name": "MJnet",
   "language": "python",
   "name": "python3"
  },
  "language_info": {
   "codemirror_mode": {
    "name": "ipython",
    "version": 3
   },
   "file_extension": ".py",
   "mimetype": "text/x-python",
   "name": "python",
   "nbconvert_exporter": "python",
   "pygments_lexer": "ipython3",
   "version": "3.9.20"
  }
 },
 "nbformat": 4,
 "nbformat_minor": 0
}
