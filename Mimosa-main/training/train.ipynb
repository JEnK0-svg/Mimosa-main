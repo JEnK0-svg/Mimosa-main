{
 "cells": [
  {
   "cell_type": "code",
   "execution_count": 1,
   "metadata": {},
   "outputs": [],
   "source": [
    "import torch\n",
    "import torch.nn as nn\n",
    "import torch.optim as optim\n",
    "from torch.utils.data import DataLoader, Dataset\n",
    "import numpy as np\n",
    "import pandas as pd\n",
    "from sklearn.metrics import accuracy_score, f1_score, recall_score, precision_score\n",
    "from utils import *\n",
    "from MJnet import *\n",
    "\n",
    "# 固定随机种子以确保可重复性\n",
    "torch.manual_seed(417)\n",
    "torch.set_num_threads(20)\n"
   ]
  },
  {
   "cell_type": "code",
   "execution_count": 2,
   "metadata": {},
   "outputs": [
    {
     "name": "stdout",
     "output_type": "stream",
     "text": [
      "train positive 26995\n",
      "train negative 27469\n",
      "val positive 2193\n",
      "val negative 2136\n",
      "min mirna len 17\n",
      "Epoch 1 of 40\n"
     ]
    },
    {
     "name": "stderr",
     "output_type": "stream",
     "text": [
      "                                                           \r"
     ]
    },
    {
     "name": "stdout",
     "output_type": "stream",
     "text": [
      "acc 0.5668745668745668\n",
      "pre 0.5450414247587161\n",
      "recall 0.5326037391700866\n",
      "specificity 0.6020599250936329\n",
      "f1 0.5547375920208977\n",
      "npv 0.5564690610125487\n",
      "Train Loss: 0.5077696468488712\n",
      "Val Loss: 0.7237149617251228\n",
      "Epoch 2 of 40\n"
     ]
    },
    {
     "name": "stderr",
     "output_type": "stream",
     "text": [
      "                                                           \r"
     ]
    },
    {
     "name": "stdout",
     "output_type": "stream",
     "text": [
      "acc 0.5943635943635943\n",
      "pre 0.5598865292852645\n",
      "recall 0.7086183310533516\n",
      "specificity 0.477059925093633\n",
      "f1 0.6389802631578947\n",
      "npv 0.6145958986731002\n",
      "Train Loss: 0.3105047480531142\n",
      "Val Loss: 0.8593010113519781\n",
      "Epoch 3 of 40\n"
     ]
    },
    {
     "name": "stderr",
     "output_type": "stream",
     "text": [
      "                                                           \r"
     ]
    },
    {
     "name": "stdout",
     "output_type": "stream",
     "text": [
      "acc 0.6685146685146686\n",
      "pre 0.6204259154676828\n",
      "recall 0.6443228454172366\n",
      "specificity 0.6933520599250936\n",
      "f1 0.6632245951654541\n",
      "npv 0.6550199026979213\n",
      "Train Loss: 0.2415934082627856\n",
      "Val Loss: 0.7659176377689138\n",
      "Epoch 4 of 40\n"
     ]
    },
    {
     "name": "stderr",
     "output_type": "stream",
     "text": [
      "                                                           \r"
     ]
    },
    {
     "name": "stdout",
     "output_type": "stream",
     "text": [
      "acc 0.5996765996765997\n",
      "pre 0.5637280144688153\n",
      "recall 0.6967624259005928\n",
      "specificity 0.5\n",
      "f1 0.6381290457297975\n",
      "npv 0.6162723600692441\n",
      "Train Loss: 0.2066574642356013\n",
      "Val Loss: 0.8686914391377393\n",
      "Epoch 5 of 40\n"
     ]
    },
    {
     "name": "stderr",
     "output_type": "stream",
     "text": [
      "                                                           \r"
     ]
    },
    {
     "name": "stdout",
     "output_type": "stream",
     "text": [
      "acc 0.5818895818895818\n",
      "pre 0.5522511227300564\n",
      "recall 0.6771545827633378\n",
      "specificity 0.48408239700374533\n",
      "f1 0.6213389121338913\n",
      "npv 0.5935706084959816\n",
      "Train Loss: 0.1828814557285656\n",
      "Val Loss: 0.9456131984205807\n",
      "Epoch 6 of 40\n"
     ]
    },
    {
     "name": "stderr",
     "output_type": "stream",
     "text": [
      "                                                           \r"
     ]
    },
    {
     "name": "stdout",
     "output_type": "stream",
     "text": [
      "acc 0.5952875952875953\n",
      "pre 0.5619218773814166\n",
      "recall 0.6438668490652075\n",
      "specificity 0.5454119850187266\n",
      "f1 0.6171328671328671\n",
      "npv 0.5986639260020555\n",
      "Train Loss: 0.16895350624103223\n",
      "Val Loss: 0.8972285933354321\n",
      "Epoch 7 of 40\n"
     ]
    },
    {
     "name": "stderr",
     "output_type": "stream",
     "text": [
      "                                                           \r"
     ]
    },
    {
     "name": "stdout",
     "output_type": "stream",
     "text": [
      "acc 0.6096096096096096\n",
      "pre 0.5723909901422224\n",
      "recall 0.6347469220246238\n",
      "specificity 0.5838014981273408\n",
      "f1 0.6222619579794367\n",
      "npv 0.60888671875\n",
      "Train Loss: 0.15797607619927523\n",
      "Val Loss: 0.9270368884591496\n",
      "Epoch 8 of 40\n"
     ]
    },
    {
     "name": "stderr",
     "output_type": "stream",
     "text": [
      "                                                           \r"
     ]
    },
    {
     "name": "stdout",
     "output_type": "stream",
     "text": [
      "acc 0.6146916146916147\n",
      "pre 0.5716405624757209\n",
      "recall 0.8025535795713634\n",
      "specificity 0.42181647940074907\n",
      "f1 0.6784888203546646\n",
      "npv 0.6754122938530734\n",
      "Train Loss: 0.14849305055825643\n",
      "Val Loss: 1.1354593283989851\n",
      "Epoch 9 of 40\n"
     ]
    },
    {
     "name": "stderr",
     "output_type": "stream",
     "text": [
      "                                                           \r"
     ]
    },
    {
     "name": "stdout",
     "output_type": "stream",
     "text": [
      "acc 0.6061446061446062\n",
      "pre 0.5657437900797082\n",
      "recall 0.8098495212038304\n",
      "specificity 0.3970037453183521\n",
      "f1 0.6756705345253947\n",
      "npv 0.6703557312252965\n",
      "Train Loss: 0.14183184085632433\n",
      "Val Loss: 1.225218397729537\n",
      "Epoch 10 of 40\n"
     ]
    },
    {
     "name": "stderr",
     "output_type": "stream",
     "text": [
      "                                                           \r"
     ]
    },
    {
     "name": "stdout",
     "output_type": "stream",
     "text": [
      "acc 0.6313236313236313\n",
      "pre 0.5875157852609619\n",
      "recall 0.6716826265389877\n",
      "specificity 0.5898876404494382\n",
      "f1 0.6486129458388376\n",
      "npv 0.6363636363636364\n",
      "Train Loss: 0.13757184756473756\n",
      "Val Loss: 0.9587494678357068\n",
      "Epoch 11 of 40\n"
     ]
    },
    {
     "name": "stderr",
     "output_type": "stream",
     "text": [
      "                                                           \r"
     ]
    },
    {
     "name": "stdout",
     "output_type": "stream",
     "text": [
      "acc 0.6176946176946176\n",
      "pre 0.5747692301322285\n",
      "recall 0.7578659370725034\n",
      "specificity 0.4737827715355805\n",
      "f1 0.6676039365334404\n",
      "npv 0.6558651976668827\n",
      "Train Loss: 0.13234836176177706\n",
      "Val Loss: 1.0339284136014826\n",
      "Epoch 12 of 40\n"
     ]
    },
    {
     "name": "stderr",
     "output_type": "stream",
     "text": [
      "                                                           \r"
     ]
    },
    {
     "name": "stdout",
     "output_type": "stream",
     "text": [
      "acc 0.6306306306306306\n",
      "pre 0.585276826575668\n",
      "recall 0.7191062471500228\n",
      "specificity 0.5397940074906367\n",
      "f1 0.6635808962760362\n",
      "npv 0.6517806670435274\n",
      "Train Loss: 0.12716661544053207\n",
      "Val Loss: 0.996002337511848\n",
      "Epoch 13 of 40\n"
     ]
    },
    {
     "name": "stderr",
     "output_type": "stream",
     "text": [
      "                                                           \r"
     ]
    },
    {
     "name": "stdout",
     "output_type": "stream",
     "text": [
      "acc 0.6523446523446523\n",
      "pre 0.5973020513544587\n",
      "recall 0.8458732330141359\n",
      "specificity 0.45365168539325845\n",
      "f1 0.7114093959731543\n",
      "npv 0.7413925019127774\n",
      "Train Loss: 0.12527116520129178\n",
      "Val Loss: 1.021056403132046\n",
      "Epoch 14 of 40\n"
     ]
    },
    {
     "name": "stderr",
     "output_type": "stream",
     "text": [
      "                                                           \r"
     ]
    },
    {
     "name": "stdout",
     "output_type": "stream",
     "text": [
      "acc 0.6287826287826288\n",
      "pre 0.5842286145395448\n",
      "recall 0.7090743274053808\n",
      "specificity 0.5463483146067416\n",
      "f1 0.6593173627305491\n",
      "npv 0.6465373961218837\n",
      "Train Loss: 0.12159954805469289\n",
      "Val Loss: 1.0039174311301287\n",
      "Epoch 15 of 40\n"
     ]
    },
    {
     "name": "stderr",
     "output_type": "stream",
     "text": [
      "                                                           \r"
     ]
    },
    {
     "name": "stdout",
     "output_type": "stream",
     "text": [
      "acc 0.6130746130746131\n",
      "pre 0.571460968500644\n",
      "recall 0.7615139078887369\n",
      "specificity 0.4606741573033708\n",
      "f1 0.6660019940179461\n",
      "npv 0.6529528865295289\n",
      "Train Loss: 0.12144736805712113\n",
      "Val Loss: 1.1876601103474111\n",
      "Epoch 16 of 40\n"
     ]
    },
    {
     "name": "stderr",
     "output_type": "stream",
     "text": [
      "                                                           \r"
     ]
    },
    {
     "name": "stdout",
     "output_type": "stream",
     "text": [
      "acc 0.601986601986602\n",
      "pre 0.5638966895181351\n",
      "recall 0.7628818969448244\n",
      "specificity 0.43679775280898875\n",
      "f1 0.6600907476819886\n",
      "npv 0.6421197522367516\n",
      "Train Loss: 0.11780323879574665\n",
      "Val Loss: 1.2827448844909668\n",
      "Epoch 17 of 40\n"
     ]
    },
    {
     "name": "stderr",
     "output_type": "stream",
     "text": [
      "                                                           \r"
     ]
    },
    {
     "name": "stdout",
     "output_type": "stream",
     "text": [
      "acc 0.6262416262416263\n",
      "pre 0.5787479927926804\n",
      "recall 0.8390332877336981\n",
      "specificity 0.40777153558052437\n",
      "f1 0.6946017365043413\n",
      "npv 0.7116013071895425\n",
      "Train Loss: 0.11407971438982398\n",
      "Val Loss: 1.3033269065267898\n",
      "Epoch 18 of 40\n"
     ]
    },
    {
     "name": "stderr",
     "output_type": "stream",
     "text": [
      "                                                           \r"
     ]
    },
    {
     "name": "stdout",
     "output_type": "stream",
     "text": [
      "acc 0.613998613998614\n",
      "pre 0.5696200833570078\n",
      "recall 0.8791609667122663\n",
      "specificity 0.34176029962546817\n",
      "f1 0.6976660032567397\n",
      "npv 0.7336683417085427\n",
      "Train Loss: 0.1137500037854546\n",
      "Val Loss: 1.5084448036025553\n",
      "Epoch 19 of 40\n"
     ]
    },
    {
     "name": "stderr",
     "output_type": "stream",
     "text": [
      "                                                           \r"
     ]
    },
    {
     "name": "stdout",
     "output_type": "stream",
     "text": [
      "acc 0.6546546546546547\n",
      "pre 0.5994592940631418\n",
      "recall 0.8331053351573188\n",
      "specificity 0.4714419475655431\n",
      "f1 0.7096523596814915\n",
      "npv 0.7334304442825929\n",
      "Train Loss: 0.11146160420642492\n",
      "Val Loss: 1.168846005902571\n",
      "Epoch 20 of 40\n"
     ]
    },
    {
     "name": "stderr",
     "output_type": "stream",
     "text": [
      "                                                           \r"
     ]
    },
    {
     "name": "stdout",
     "output_type": "stream",
     "text": [
      "acc 0.6197736197736198\n",
      "pre 0.5735259730319193\n",
      "recall 0.875968992248062\n",
      "specificity 0.35674157303370785\n",
      "f1 0.7000728862973761\n",
      "npv 0.7369439071566731\n",
      "Train Loss: 0.11030151212299374\n",
      "Val Loss: 1.4099626400891472\n",
      "Epoch 21 of 40\n"
     ]
    },
    {
     "name": "stderr",
     "output_type": "stream",
     "text": [
      "                                                           \r"
     ]
    },
    {
     "name": "stdout",
     "output_type": "stream",
     "text": [
      "acc 0.6264726264726265\n",
      "pre 0.5811915821057525\n",
      "recall 0.751937984496124\n",
      "specificity 0.49765917602996257\n",
      "f1 0.6710071210579858\n",
      "npv 0.6614810205351587\n",
      "Train Loss: 0.10802727502206681\n",
      "Val Loss: 1.133717738530215\n",
      "Epoch 22 of 40\n"
     ]
    },
    {
     "name": "stderr",
     "output_type": "stream",
     "text": [
      "                                                           \r"
     ]
    },
    {
     "name": "stdout",
     "output_type": "stream",
     "text": [
      "acc 0.6202356202356203\n",
      "pre 0.5785695272180904\n",
      "recall 0.6876424988600092\n",
      "specificity 0.5510299625468165\n",
      "f1 0.6472103004291846\n",
      "npv 0.6321160042964554\n",
      "Train Loss: 0.10701897559346447\n",
      "Val Loss: 1.2099543248905855\n",
      "Epoch 23 of 40\n"
     ]
    },
    {
     "name": "stderr",
     "output_type": "stream",
     "text": [
      "                                                           \r"
     ]
    },
    {
     "name": "stdout",
     "output_type": "stream",
     "text": [
      "acc 0.6493416493416494\n",
      "pre 0.5968103511897925\n",
      "recall 0.7938896488828089\n",
      "specificity 0.5009363295880149\n",
      "f1 0.6964\n",
      "npv 0.7030223390275953\n",
      "Train Loss: 0.10563114170474766\n",
      "Val Loss: 1.2402362209909104\n",
      "Epoch 24 of 40\n"
     ]
    },
    {
     "name": "stderr",
     "output_type": "stream",
     "text": [
      "                                                           \r"
     ]
    },
    {
     "name": "stdout",
     "output_type": "stream",
     "text": [
      "acc 0.6410256410256411\n",
      "pre 0.5957485034046883\n",
      "recall 0.6593707250341997\n",
      "specificity 0.6221910112359551\n",
      "f1 0.650472334682861\n",
      "npv 0.6401734104046243\n",
      "Train Loss: 0.10368936919900174\n",
      "Val Loss: 1.0399730170474333\n",
      "Epoch 25 of 40\n"
     ]
    },
    {
     "name": "stderr",
     "output_type": "stream",
     "text": [
      "                                                           \r"
     ]
    },
    {
     "name": "stdout",
     "output_type": "stream",
     "text": [
      "acc 0.6227766227766228\n",
      "pre 0.578257070253695\n",
      "recall 0.761969904240766\n",
      "specificity 0.4798689138576779\n",
      "f1 0.6717587939698493\n",
      "npv 0.6625727213962508\n",
      "Train Loss: 0.10265580176467627\n",
      "Val Loss: 1.4621872340931612\n",
      "Epoch 26 of 40\n"
     ]
    },
    {
     "name": "stderr",
     "output_type": "stream",
     "text": [
      "                                                           \r"
     ]
    },
    {
     "name": "stdout",
     "output_type": "stream",
     "text": [
      "acc 0.6518826518826519\n",
      "pre 0.5983679325346385\n",
      "recall 0.8043775649794802\n",
      "specificity 0.4953183520599251\n",
      "f1 0.700695134061569\n",
      "npv 0.7114996637525218\n",
      "Train Loss: 0.10241156321963374\n",
      "Val Loss: 1.1920672690167147\n",
      "Epoch 27 of 40\n"
     ]
    },
    {
     "name": "stderr",
     "output_type": "stream",
     "text": [
      "                                                           \r"
     ]
    },
    {
     "name": "stdout",
     "output_type": "stream",
     "text": [
      "acc 0.5957495957495957\n",
      "pre 0.558873386672026\n",
      "recall 0.8144094847241222\n",
      "specificity 0.37125468164794007\n",
      "f1 0.6711762495302518\n",
      "npv 0.6608333333333334\n",
      "Train Loss: 0.10021938839184007\n",
      "Val Loss: 1.6028836930499357\n",
      "Epoch 28 of 40\n"
     ]
    },
    {
     "name": "stderr",
     "output_type": "stream",
     "text": [
      "                                                           \r"
     ]
    },
    {
     "name": "stdout",
     "output_type": "stream",
     "text": [
      "acc 0.6024486024486024\n",
      "pre 0.5632386312245059\n",
      "recall 0.8134974920200638\n",
      "specificity 0.3857677902621723\n",
      "f1 0.6746076763093213\n",
      "npv 0.6682887266828873\n",
      "Train Loss: 0.09899569261696697\n",
      "Val Loss: 1.5779942449401407\n",
      "Epoch 29 of 40\n"
     ]
    },
    {
     "name": "stderr",
     "output_type": "stream",
     "text": [
      "                                                           \r"
     ]
    },
    {
     "ename": "KeyboardInterrupt",
     "evalue": "",
     "output_type": "error",
     "traceback": [
      "\u001b[1;31m---------------------------------------------------------------------------\u001b[0m",
      "\u001b[1;31mKeyboardInterrupt\u001b[0m                         Traceback (most recent call last)",
      "Cell \u001b[1;32mIn[2], line 3\u001b[0m\n\u001b[0;32m      1\u001b[0m train_dataset_path \u001b[38;5;241m=\u001b[39m  \u001b[38;5;124m'\u001b[39m\u001b[38;5;124mC:\u001b[39m\u001b[38;5;130;01m\\\\\u001b[39;00m\u001b[38;5;124mUsers\u001b[39m\u001b[38;5;130;01m\\\\\u001b[39;00m\u001b[38;5;124m95409\u001b[39m\u001b[38;5;130;01m\\\\\u001b[39;00m\u001b[38;5;124mDownloads\u001b[39m\u001b[38;5;130;01m\\\\\u001b[39;00m\u001b[38;5;124mMimosa-main\u001b[39m\u001b[38;5;130;01m\\\\\u001b[39;00m\u001b[38;5;124mMimosa-main\u001b[39m\u001b[38;5;130;01m\\\\\u001b[39;00m\u001b[38;5;124mdata\u001b[39m\u001b[38;5;130;01m\\\\\u001b[39;00m\u001b[38;5;124mmiRAW_Train_Validation.txt\u001b[39m\u001b[38;5;124m'\u001b[39m\n\u001b[0;32m      2\u001b[0m \u001b[38;5;66;03m# test_dataset_path =  '/Data/miRAW_Test0.txt'\u001b[39;00m\n\u001b[1;32m----> 3\u001b[0m \u001b[43mperform_train\u001b[49m\u001b[43m(\u001b[49m\u001b[43mtrain_dataset_path\u001b[49m\u001b[43m)\u001b[49m\n\u001b[0;32m      4\u001b[0m \u001b[38;5;66;03m# perform_test(test_dataset_path, stepsize=1)\u001b[39;00m\n",
      "File \u001b[1;32mc:\\Users\\95409\\Downloads\\Mimosa-main\\Mimosa-main\\training\\MJnet.py:260\u001b[0m, in \u001b[0;36mperform_train\u001b[1;34m(filepath)\u001b[0m\n\u001b[0;32m    258\u001b[0m \u001b[38;5;28;01mfor\u001b[39;00m epoch \u001b[38;5;129;01min\u001b[39;00m \u001b[38;5;28mrange\u001b[39m(epochs):\n\u001b[0;32m    259\u001b[0m     \u001b[38;5;28mprint\u001b[39m(\u001b[38;5;124mf\u001b[39m\u001b[38;5;124m'\u001b[39m\u001b[38;5;124mEpoch \u001b[39m\u001b[38;5;132;01m{\u001b[39;00mepoch\u001b[38;5;241m+\u001b[39m\u001b[38;5;241m1\u001b[39m\u001b[38;5;132;01m}\u001b[39;00m\u001b[38;5;124m of \u001b[39m\u001b[38;5;132;01m{\u001b[39;00mepochs\u001b[38;5;132;01m}\u001b[39;00m\u001b[38;5;124m'\u001b[39m)\n\u001b[1;32m--> 260\u001b[0m     train_epoch_loss \u001b[38;5;241m=\u001b[39m \u001b[43mDeep_train\u001b[49m\u001b[43m(\u001b[49m\u001b[43mmodel\u001b[49m\u001b[43m,\u001b[49m\u001b[43m \u001b[49m\u001b[43mtrain_loader\u001b[49m\u001b[43m,\u001b[49m\u001b[43moptimizer\u001b[49m\u001b[43m,\u001b[49m\u001b[43m \u001b[49m\u001b[43mcriterion\u001b[49m\u001b[43m)\u001b[49m\n\u001b[0;32m    261\u001b[0m     valid_epoch_loss \u001b[38;5;241m=\u001b[39m Deep_validate(model,val_loader,criterion)\n\u001b[0;32m    263\u001b[0m     train_loss\u001b[38;5;241m.\u001b[39mappend(train_epoch_loss)\n",
      "File \u001b[1;32mc:\\Users\\95409\\Downloads\\Mimosa-main\\Mimosa-main\\training\\MJnet.py:156\u001b[0m, in \u001b[0;36mDeep_train\u001b[1;34m(model, dataloader, optimizer, criterion)\u001b[0m\n\u001b[0;32m    153\u001b[0m counter \u001b[38;5;241m=\u001b[39m \u001b[38;5;241m0\u001b[39m\n\u001b[0;32m    154\u001b[0m train_loss \u001b[38;5;241m=\u001b[39m \u001b[38;5;241m0.0\u001b[39m\n\u001b[1;32m--> 156\u001b[0m \u001b[38;5;28;01mfor\u001b[39;00m i, data \u001b[38;5;129;01min\u001b[39;00m \u001b[38;5;28menumerate\u001b[39m(tqdm(dataloader, desc\u001b[38;5;241m=\u001b[39m\u001b[38;5;124m\"\u001b[39m\u001b[38;5;124mTraining\u001b[39m\u001b[38;5;124m\"\u001b[39m, leave\u001b[38;5;241m=\u001b[39m\u001b[38;5;28;01mFalse\u001b[39;00m)):\n\u001b[0;32m    157\u001b[0m     counter \u001b[38;5;241m+\u001b[39m\u001b[38;5;241m=\u001b[39m \u001b[38;5;241m1\u001b[39m\n\u001b[0;32m    158\u001b[0m     features1, features2, features3, features4, target \u001b[38;5;241m=\u001b[39m data[\u001b[38;5;124m'\u001b[39m\u001b[38;5;124mfea1\u001b[39m\u001b[38;5;124m'\u001b[39m], data[\u001b[38;5;124m'\u001b[39m\u001b[38;5;124mfea2\u001b[39m\u001b[38;5;124m'\u001b[39m], data[\u001b[38;5;124m'\u001b[39m\u001b[38;5;124mfea3\u001b[39m\u001b[38;5;124m'\u001b[39m], data[\u001b[38;5;124m'\u001b[39m\u001b[38;5;124mfea4\u001b[39m\u001b[38;5;124m'\u001b[39m], data[\u001b[38;5;124m'\u001b[39m\u001b[38;5;124mlabel\u001b[39m\u001b[38;5;124m'\u001b[39m]\n",
      "File \u001b[1;32md:\\Anaconda3\\envs\\MJnet\\lib\\site-packages\\tqdm\\std.py:1181\u001b[0m, in \u001b[0;36mtqdm.__iter__\u001b[1;34m(self)\u001b[0m\n\u001b[0;32m   1178\u001b[0m time \u001b[38;5;241m=\u001b[39m \u001b[38;5;28mself\u001b[39m\u001b[38;5;241m.\u001b[39m_time\n\u001b[0;32m   1180\u001b[0m \u001b[38;5;28;01mtry\u001b[39;00m:\n\u001b[1;32m-> 1181\u001b[0m     \u001b[38;5;28;01mfor\u001b[39;00m obj \u001b[38;5;129;01min\u001b[39;00m iterable:\n\u001b[0;32m   1182\u001b[0m         \u001b[38;5;28;01myield\u001b[39;00m obj\n\u001b[0;32m   1183\u001b[0m         \u001b[38;5;66;03m# Update and possibly print the progressbar.\u001b[39;00m\n\u001b[0;32m   1184\u001b[0m         \u001b[38;5;66;03m# Note: does not call self.update(1) for speed optimisation.\u001b[39;00m\n",
      "File \u001b[1;32md:\\Anaconda3\\envs\\MJnet\\lib\\site-packages\\torch\\utils\\data\\dataloader.py:630\u001b[0m, in \u001b[0;36m_BaseDataLoaderIter.__next__\u001b[1;34m(self)\u001b[0m\n\u001b[0;32m    627\u001b[0m \u001b[38;5;28;01mif\u001b[39;00m \u001b[38;5;28mself\u001b[39m\u001b[38;5;241m.\u001b[39m_sampler_iter \u001b[38;5;129;01mis\u001b[39;00m \u001b[38;5;28;01mNone\u001b[39;00m:\n\u001b[0;32m    628\u001b[0m     \u001b[38;5;66;03m# TODO(https://github.com/pytorch/pytorch/issues/76750)\u001b[39;00m\n\u001b[0;32m    629\u001b[0m     \u001b[38;5;28mself\u001b[39m\u001b[38;5;241m.\u001b[39m_reset()  \u001b[38;5;66;03m# type: ignore[call-arg]\u001b[39;00m\n\u001b[1;32m--> 630\u001b[0m data \u001b[38;5;241m=\u001b[39m \u001b[38;5;28;43mself\u001b[39;49m\u001b[38;5;241;43m.\u001b[39;49m\u001b[43m_next_data\u001b[49m\u001b[43m(\u001b[49m\u001b[43m)\u001b[49m\n\u001b[0;32m    631\u001b[0m \u001b[38;5;28mself\u001b[39m\u001b[38;5;241m.\u001b[39m_num_yielded \u001b[38;5;241m+\u001b[39m\u001b[38;5;241m=\u001b[39m \u001b[38;5;241m1\u001b[39m\n\u001b[0;32m    632\u001b[0m \u001b[38;5;28;01mif\u001b[39;00m \u001b[38;5;28mself\u001b[39m\u001b[38;5;241m.\u001b[39m_dataset_kind \u001b[38;5;241m==\u001b[39m _DatasetKind\u001b[38;5;241m.\u001b[39mIterable \u001b[38;5;129;01mand\u001b[39;00m \\\n\u001b[0;32m    633\u001b[0m         \u001b[38;5;28mself\u001b[39m\u001b[38;5;241m.\u001b[39m_IterableDataset_len_called \u001b[38;5;129;01mis\u001b[39;00m \u001b[38;5;129;01mnot\u001b[39;00m \u001b[38;5;28;01mNone\u001b[39;00m \u001b[38;5;129;01mand\u001b[39;00m \\\n\u001b[0;32m    634\u001b[0m         \u001b[38;5;28mself\u001b[39m\u001b[38;5;241m.\u001b[39m_num_yielded \u001b[38;5;241m>\u001b[39m \u001b[38;5;28mself\u001b[39m\u001b[38;5;241m.\u001b[39m_IterableDataset_len_called:\n",
      "File \u001b[1;32md:\\Anaconda3\\envs\\MJnet\\lib\\site-packages\\torch\\utils\\data\\dataloader.py:673\u001b[0m, in \u001b[0;36m_SingleProcessDataLoaderIter._next_data\u001b[1;34m(self)\u001b[0m\n\u001b[0;32m    671\u001b[0m \u001b[38;5;28;01mdef\u001b[39;00m \u001b[38;5;21m_next_data\u001b[39m(\u001b[38;5;28mself\u001b[39m):\n\u001b[0;32m    672\u001b[0m     index \u001b[38;5;241m=\u001b[39m \u001b[38;5;28mself\u001b[39m\u001b[38;5;241m.\u001b[39m_next_index()  \u001b[38;5;66;03m# may raise StopIteration\u001b[39;00m\n\u001b[1;32m--> 673\u001b[0m     data \u001b[38;5;241m=\u001b[39m \u001b[38;5;28;43mself\u001b[39;49m\u001b[38;5;241;43m.\u001b[39;49m\u001b[43m_dataset_fetcher\u001b[49m\u001b[38;5;241;43m.\u001b[39;49m\u001b[43mfetch\u001b[49m\u001b[43m(\u001b[49m\u001b[43mindex\u001b[49m\u001b[43m)\u001b[49m  \u001b[38;5;66;03m# may raise StopIteration\u001b[39;00m\n\u001b[0;32m    674\u001b[0m     \u001b[38;5;28;01mif\u001b[39;00m \u001b[38;5;28mself\u001b[39m\u001b[38;5;241m.\u001b[39m_pin_memory:\n\u001b[0;32m    675\u001b[0m         data \u001b[38;5;241m=\u001b[39m _utils\u001b[38;5;241m.\u001b[39mpin_memory\u001b[38;5;241m.\u001b[39mpin_memory(data, \u001b[38;5;28mself\u001b[39m\u001b[38;5;241m.\u001b[39m_pin_memory_device)\n",
      "File \u001b[1;32md:\\Anaconda3\\envs\\MJnet\\lib\\site-packages\\torch\\utils\\data\\_utils\\fetch.py:52\u001b[0m, in \u001b[0;36m_MapDatasetFetcher.fetch\u001b[1;34m(self, possibly_batched_index)\u001b[0m\n\u001b[0;32m     50\u001b[0m         data \u001b[38;5;241m=\u001b[39m \u001b[38;5;28mself\u001b[39m\u001b[38;5;241m.\u001b[39mdataset\u001b[38;5;241m.\u001b[39m__getitems__(possibly_batched_index)\n\u001b[0;32m     51\u001b[0m     \u001b[38;5;28;01melse\u001b[39;00m:\n\u001b[1;32m---> 52\u001b[0m         data \u001b[38;5;241m=\u001b[39m [\u001b[38;5;28mself\u001b[39m\u001b[38;5;241m.\u001b[39mdataset[idx] \u001b[38;5;28;01mfor\u001b[39;00m idx \u001b[38;5;129;01min\u001b[39;00m possibly_batched_index]\n\u001b[0;32m     53\u001b[0m \u001b[38;5;28;01melse\u001b[39;00m:\n\u001b[0;32m     54\u001b[0m     data \u001b[38;5;241m=\u001b[39m \u001b[38;5;28mself\u001b[39m\u001b[38;5;241m.\u001b[39mdataset[possibly_batched_index]\n",
      "File \u001b[1;32md:\\Anaconda3\\envs\\MJnet\\lib\\site-packages\\torch\\utils\\data\\_utils\\fetch.py:52\u001b[0m, in \u001b[0;36m<listcomp>\u001b[1;34m(.0)\u001b[0m\n\u001b[0;32m     50\u001b[0m         data \u001b[38;5;241m=\u001b[39m \u001b[38;5;28mself\u001b[39m\u001b[38;5;241m.\u001b[39mdataset\u001b[38;5;241m.\u001b[39m__getitems__(possibly_batched_index)\n\u001b[0;32m     51\u001b[0m     \u001b[38;5;28;01melse\u001b[39;00m:\n\u001b[1;32m---> 52\u001b[0m         data \u001b[38;5;241m=\u001b[39m [\u001b[38;5;28;43mself\u001b[39;49m\u001b[38;5;241;43m.\u001b[39;49m\u001b[43mdataset\u001b[49m\u001b[43m[\u001b[49m\u001b[43midx\u001b[49m\u001b[43m]\u001b[49m \u001b[38;5;28;01mfor\u001b[39;00m idx \u001b[38;5;129;01min\u001b[39;00m possibly_batched_index]\n\u001b[0;32m     53\u001b[0m \u001b[38;5;28;01melse\u001b[39;00m:\n\u001b[0;32m     54\u001b[0m     data \u001b[38;5;241m=\u001b[39m \u001b[38;5;28mself\u001b[39m\u001b[38;5;241m.\u001b[39mdataset[possibly_batched_index]\n",
      "File \u001b[1;32mc:\\Users\\95409\\Downloads\\Mimosa-main\\Mimosa-main\\training\\MJnet.py:39\u001b[0m, in \u001b[0;36mmyDataset.__getitem__\u001b[1;34m(self, index)\u001b[0m\n\u001b[0;32m     35\u001b[0m onehot_mi \u001b[38;5;241m=\u001b[39m get_onehot_embedding(\u001b[38;5;28mself\u001b[39m\u001b[38;5;241m.\u001b[39mmirna)\n\u001b[0;32m     37\u001b[0m pairing_m, pairing_mi \u001b[38;5;241m=\u001b[39m get_interaction_map(\u001b[38;5;28mself\u001b[39m\u001b[38;5;241m.\u001b[39mmirna,\u001b[38;5;28mself\u001b[39m\u001b[38;5;241m.\u001b[39mreverse_mrna)\n\u001b[1;32m---> 39\u001b[0m onehot_m  \u001b[38;5;241m=\u001b[39m \u001b[43mtorch\u001b[49m\u001b[38;5;241;43m.\u001b[39;49m\u001b[43mtensor\u001b[49m\u001b[43m(\u001b[49m\u001b[43monehot_m\u001b[49m\u001b[43m,\u001b[49m\u001b[43m \u001b[49m\u001b[43mdtype\u001b[49m\u001b[38;5;241;43m=\u001b[39;49m\u001b[43mtorch\u001b[49m\u001b[38;5;241;43m.\u001b[39;49m\u001b[43mfloat32\u001b[49m\u001b[43m)\u001b[49m\u001b[38;5;241m.\u001b[39mto(device)\n\u001b[0;32m     40\u001b[0m onehot_mi \u001b[38;5;241m=\u001b[39m torch\u001b[38;5;241m.\u001b[39mtensor(onehot_mi, dtype\u001b[38;5;241m=\u001b[39mtorch\u001b[38;5;241m.\u001b[39mfloat32)\u001b[38;5;241m.\u001b[39mto(device)\n\u001b[0;32m     41\u001b[0m pairing_m \u001b[38;5;241m=\u001b[39m torch\u001b[38;5;241m.\u001b[39mtensor(pairing_m, dtype\u001b[38;5;241m=\u001b[39mtorch\u001b[38;5;241m.\u001b[39mfloat32)\u001b[38;5;241m.\u001b[39mto(device)\n",
      "\u001b[1;31mKeyboardInterrupt\u001b[0m: "
     ]
    }
   ],
   "source": [
    "train_dataset_path =  'C:\\\\Users\\\\95409\\\\Downloads\\\\Mimosa-main\\\\Mimosa-main\\\\data\\\\miRAW_Train_Validation.txt'\n",
    "# test_dataset_path =  '/Data/miRAW_Test0.txt'\n",
    "perform_train(train_dataset_path)\n",
    "# perform_test(test_dataset_path, stepsize=1)"
   ]
  },
  {
   "cell_type": "code",
   "execution_count": null,
   "metadata": {},
   "outputs": [],
   "source": [
    "test_file_path = 'C:\\\\Users\\\\95409\\\\Downloads\\\\Mimosa-main\\\\Mimosa-main\\\\data\\\\miRAW_Test0.txt'\n",
    "perform_test(test_file_path, stepsize = 5, model_type = 'model_mimosa.pth')"
   ]
  }
 ],
 "metadata": {
  "kernelspec": {
   "display_name": "MJnet",
   "language": "python",
   "name": "python3"
  },
  "language_info": {
   "codemirror_mode": {
    "name": "ipython",
    "version": 3
   },
   "file_extension": ".py",
   "mimetype": "text/x-python",
   "name": "python",
   "nbconvert_exporter": "python",
   "pygments_lexer": "ipython3",
   "version": "3.9.20"
  }
 },
 "nbformat": 4,
 "nbformat_minor": 2
}
