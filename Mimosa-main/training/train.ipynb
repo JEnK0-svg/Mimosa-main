{
 "cells": [
  {
   "cell_type": "code",
   "execution_count": null,
   "metadata": {
    "colab": {
     "base_uri": "https://localhost:8080/"
    },
    "id": "611TImrx3JEe",
    "outputId": "b20c2889-08ed-4fdf-af81-10b07db6754e"
   },
   "outputs": [],
   "source": [
    "%cd sample_data/"
   ]
  },
  {
   "cell_type": "code",
   "execution_count": null,
   "metadata": {
    "colab": {
     "base_uri": "https://localhost:8080/"
    },
    "id": "BQrrSpr53S0b",
    "outputId": "4ecbf3e6-df19-4edb-8d18-93c42d76ca23"
   },
   "outputs": [],
   "source": [
    "!git clone https://github.com/JEnK0-svg/Mimosa-main.git"
   ]
  },
  {
   "cell_type": "code",
   "execution_count": null,
   "metadata": {
    "colab": {
     "base_uri": "https://localhost:8080/"
    },
    "id": "VV5E0k-_3lJi",
    "outputId": "60971a59-9fcf-4633-8301-d29ca2cad665"
   },
   "outputs": [],
   "source": [
    "%cd Mimosa-main/Mimosa-main/training"
   ]
  },
  {
   "cell_type": "code",
   "execution_count": 1,
   "metadata": {
    "id": "Mmkov_aCxJFl"
   },
   "outputs": [],
   "source": [
    "import torch\n",
    "import torch.nn as nn\n",
    "import torch.optim as optim\n",
    "from torch.utils.data import DataLoader, Dataset\n",
    "import numpy as np\n",
    "import pandas as pd\n",
    "from sklearn.metrics import accuracy_score, f1_score, recall_score, precision_score\n",
    "from utils import *\n",
    "from MJnet2 import *\n",
    "\n",
    "# 固定随机种子以确保可重复性\n",
    "torch.manual_seed(417)\n",
    "torch.set_num_threads(20)\n"
   ]
  },
  {
   "cell_type": "code",
   "execution_count": 2,
   "metadata": {
    "colab": {
     "base_uri": "https://localhost:8080/",
     "height": 465
    },
    "id": "thmO46xgxJFn",
    "outputId": "8b7a2498-7fe4-4a2c-cd02-b5fe4545f6c9"
   },
   "outputs": [
    {
     "ename": "FileNotFoundError",
     "evalue": "[Errno 2] No such file or directory: 'E:\\\\PersonalFile\\\\yujunhao\\\\Mimosa-main\\\\Mimosa-main\\\\data\\\\miRAW_Train_Validation.txt'",
     "output_type": "error",
     "traceback": [
      "\u001b[1;31m---------------------------------------------------------------------------\u001b[0m",
      "\u001b[1;31mFileNotFoundError\u001b[0m                         Traceback (most recent call last)",
      "Cell \u001b[1;32mIn[2], line 3\u001b[0m\n\u001b[0;32m      1\u001b[0m train_dataset_path \u001b[38;5;241m=\u001b[39m  \u001b[38;5;124m'\u001b[39m\u001b[38;5;124mE:\u001b[39m\u001b[38;5;124m\\\u001b[39m\u001b[38;5;124mPersonalFile\u001b[39m\u001b[38;5;124m\\\u001b[39m\u001b[38;5;124myujunhao\u001b[39m\u001b[38;5;124m\\\u001b[39m\u001b[38;5;124mMimosa-main\u001b[39m\u001b[38;5;124m\\\u001b[39m\u001b[38;5;124mMimosa-main\u001b[39m\u001b[38;5;124m\\\u001b[39m\u001b[38;5;124mdata\u001b[39m\u001b[38;5;124m\\\u001b[39m\u001b[38;5;124mmiRAW_Train_Validation.txt\u001b[39m\u001b[38;5;124m'\u001b[39m\n\u001b[0;32m      2\u001b[0m \u001b[38;5;66;03m# test_dataset_path =  '/Data/miRAW_Test0.txt'\u001b[39;00m\n\u001b[1;32m----> 3\u001b[0m \u001b[43mperform_train\u001b[49m\u001b[43m(\u001b[49m\u001b[43mtrain_dataset_path\u001b[49m\u001b[43m)\u001b[49m\n\u001b[0;32m      4\u001b[0m \u001b[38;5;66;03m# perform_test(test_dataset_path, stepsize=1)\u001b[39;00m\n",
      "File \u001b[1;32mc:\\Users\\95409\\Downloads\\Mimosa-main\\Mimosa-main\\training\\MJnet2.py:264\u001b[0m, in \u001b[0;36mperform_train\u001b[1;34m(filepath)\u001b[0m\n\u001b[0;32m    262\u001b[0m learningrate \u001b[38;5;241m=\u001b[39m \u001b[38;5;241m1e-5\u001b[39m\n\u001b[0;32m    263\u001b[0m epochs \u001b[38;5;241m=\u001b[39m \u001b[38;5;241m30\u001b[39m\n\u001b[1;32m--> 264\u001b[0m train, val \u001b[38;5;241m=\u001b[39m \u001b[43mread_data\u001b[49m\u001b[43m(\u001b[49m\u001b[43mfilepath\u001b[49m\u001b[43m)\u001b[49m\n\u001b[0;32m    266\u001b[0m train_dataset \u001b[38;5;241m=\u001b[39m myDataset(train)\n\u001b[0;32m    267\u001b[0m val_dataset \u001b[38;5;241m=\u001b[39m myDataset(val)\n",
      "File \u001b[1;32mc:\\Users\\95409\\Downloads\\Mimosa-main\\Mimosa-main\\training\\utils.py:43\u001b[0m, in \u001b[0;36mread_data\u001b[1;34m(filepath)\u001b[0m\n\u001b[0;32m     41\u001b[0m \u001b[38;5;28;01mdef\u001b[39;00m \u001b[38;5;21mread_data\u001b[39m(filepath):\n\u001b[0;32m     42\u001b[0m \u001b[38;5;250m    \u001b[39m\u001b[38;5;124;03m'''read training-validation file: site-level samples'''\u001b[39;00m\n\u001b[1;32m---> 43\u001b[0m     \u001b[38;5;28;01mwith\u001b[39;00m \u001b[38;5;28;43mopen\u001b[39;49m\u001b[43m(\u001b[49m\u001b[43mfilepath\u001b[49m\u001b[43m)\u001b[49m \u001b[38;5;28;01mas\u001b[39;00m f:\n\u001b[0;32m     44\u001b[0m         data \u001b[38;5;241m=\u001b[39m f\u001b[38;5;241m.\u001b[39mreadlines()\n\u001b[0;32m     45\u001b[0m         train_positive \u001b[38;5;241m=\u001b[39m []\n",
      "\u001b[1;31mFileNotFoundError\u001b[0m: [Errno 2] No such file or directory: 'E:\\\\PersonalFile\\\\yujunhao\\\\Mimosa-main\\\\Mimosa-main\\\\data\\\\miRAW_Train_Validation.txt'"
     ]
    }
   ],
   "source": [
    "train_dataset_path =  'E:\\PersonalFile\\yujunhao\\Mimosa-main\\Mimosa-main\\data\\miRAW_Train_Validation.txt'\n",
    "# test_dataset_path =  '/Data/miRAW_Test0.txt'\n",
    "perform_train(train_dataset_path)\n",
    "# perform_test(test_dataset_path, stepsize=1)"
   ]
  },
  {
   "cell_type": "code",
   "execution_count": null,
   "metadata": {
    "id": "RMF-phHdxJFo"
   },
   "outputs": [],
   "source": [
    "for i in range(10):\n",
    "    print('第{}个测试集测试结果：'.format(i + 1))\n",
    "    test_file_path = 'E:\\PersonalFile\\yujunhao\\Mimosa-main\\Mimosa-main\\data\\miRAW_Test{}.txt'.format(i)\n",
    "    perform_test(test_file_path, stepsize = 5, model_type='model_concate_22.pth')"
   ]
  }
 ],
 "metadata": {
  "accelerator": "GPU",
  "colab": {
   "gpuType": "T4",
   "provenance": []
  },
  "kernelspec": {
   "display_name": "MJnet",
   "language": "python",
   "name": "python3"
  },
  "language_info": {
   "codemirror_mode": {
    "name": "ipython",
    "version": 3
   },
   "file_extension": ".py",
   "mimetype": "text/x-python",
   "name": "python",
   "nbconvert_exporter": "python",
   "pygments_lexer": "ipython3",
   "version": "3.9.20"
  }
 },
 "nbformat": 4,
 "nbformat_minor": 0
}
