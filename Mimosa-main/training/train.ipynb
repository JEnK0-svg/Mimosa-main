{
 "cells": [
  {
   "cell_type": "code",
   "execution_count": 1,
   "metadata": {
    "id": "Mmkov_aCxJFl"
   },
   "outputs": [],
   "source": [
    "from utils import *\n",
    "from MJnetCNNselfattetion import *\n",
    "# 固定随机种子以确保可重复性\n",
    "torch.manual_seed(42)\n",
    "torch.set_num_threads(20)"
   ]
  },
  {
   "cell_type": "code",
   "execution_count": 1,
   "metadata": {},
   "outputs": [],
   "source": [
    "from utils import *\n",
    "from c2 import *\n",
    "# 固定随机种子以确保可重复性\n",
    "torch.manual_seed(42)\n",
    "torch.set_num_threads(20)"
   ]
  },
  {
   "cell_type": "code",
   "execution_count": null,
   "metadata": {
    "colab": {
     "base_uri": "https://localhost:8080/",
     "height": 465
    },
    "id": "thmO46xgxJFn",
    "outputId": "8b7a2498-7fe4-4a2c-cd02-b5fe4545f6c9"
   },
   "outputs": [],
   "source": [
    "train_dataset_path =  'E:\\PersonalFile\\yujunhao\\Mimosa-main\\Mimosa-main\\data\\miRAW_Train_Validation.txt'\n",
    "perform_train(train_dataset_path)"
   ]
  },
  {
   "cell_type": "code",
   "execution_count": null,
   "metadata": {
    "id": "RMF-phHdxJFo"
   },
   "outputs": [],
   "source": [
    "for i in range(10):\n",
    "    print('第{}个测试集测试结果：'.format(i + 1))\n",
    "    test_file_path = 'E:\\PersonalFile\\yujunhao\\Mimosa-main\\Mimosa-main\\data\\miRAW_Test{}.txt'.format(i)\n",
    "    perform_test(test_file_path, stepsize = 5, model_type='model_final.pth')"
   ]
  }
 ],
 "metadata": {
  "accelerator": "GPU",
  "colab": {
   "gpuType": "T4",
   "provenance": []
  },
  "kernelspec": {
   "display_name": "MJnet",
   "language": "python",
   "name": "python3"
  },
  "language_info": {
   "codemirror_mode": {
    "name": "ipython",
    "version": 3
   },
   "file_extension": ".py",
   "mimetype": "text/x-python",
   "name": "python",
   "nbconvert_exporter": "python",
   "pygments_lexer": "ipython3",
   "version": "3.9.20"
  }
 },
 "nbformat": 4,
 "nbformat_minor": 0
}
