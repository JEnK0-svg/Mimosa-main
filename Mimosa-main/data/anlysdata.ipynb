{
 "cells": [
  {
   "cell_type": "code",
   "execution_count": 1,
   "metadata": {},
   "outputs": [],
   "source": [
    "def get_max_length_from_column(file_path, column_index, delimiter='\\t'):\n",
    "    \"\"\"\n",
    "    读取txt文件中特定列，计算该列中序列的最大长度。\n",
    "    \n",
    "    :param file_path: txt文件路径\n",
    "    :param column_index: 要处理的列的索引（从0开始）\n",
    "    :param delimiter: 列的分隔符，默认为tab键（\\t），可以根据需要调整，如空格或逗号\n",
    "    :return: 该列中序列的最大长度\n",
    "    \"\"\"\n",
    "    max_length = 0  # 初始化最大长度\n",
    "    \n",
    "    # 打开文件，逐行读取\n",
    "    with open(file_path, 'r') as file:\n",
    "        for line in file:\n",
    "            # 根据指定的分隔符分割每行\n",
    "            columns = line.strip().split(delimiter)\n",
    "            \n",
    "            # 检查当前行是否有指定的列\n",
    "            if len(columns) > column_index:\n",
    "                sequence = columns[column_index]\n",
    "                \n",
    "                # 更新最大长度\n",
    "                max_length = max(max_length, len(sequence))\n",
    "    \n",
    "    return max_length\n"
   ]
  },
  {
   "cell_type": "code",
   "execution_count": 14,
   "metadata": {},
   "outputs": [
    {
     "name": "stdout",
     "output_type": "stream",
     "text": [
      "该列中最长序列的长度是: 25\n"
     ]
    }
   ],
   "source": [
    "file_path = 'miRAW_Test9.txt'  # 替换为你的txt文件路径\n",
    "column_index = 1  # 你要处理的列的索引（从0开始计数）\n",
    "delimiter = '\\t'  # 根据实际情况设置分隔符\n",
    "\n",
    "max_length = get_max_length_from_column(file_path, column_index, delimiter)\n",
    "print(f\"该列中最长序列的长度是: {max_length}\")"
   ]
  }
 ],
 "metadata": {
  "kernelspec": {
   "display_name": "MJnet",
   "language": "python",
   "name": "python3"
  },
  "language_info": {
   "codemirror_mode": {
    "name": "ipython",
    "version": 3
   },
   "file_extension": ".py",
   "mimetype": "text/x-python",
   "name": "python",
   "nbconvert_exporter": "python",
   "pygments_lexer": "ipython3",
   "version": "3.9.20"
  }
 },
 "nbformat": 4,
 "nbformat_minor": 2
}
