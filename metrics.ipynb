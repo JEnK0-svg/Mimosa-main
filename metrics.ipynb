{
 "cells": [
  {
   "cell_type": "code",
   "execution_count": 1,
   "metadata": {},
   "outputs": [
    {
     "name": "stdout",
     "output_type": "stream",
     "text": [
      "各指标平均值:\n",
      "Accuracy: 0.7831\n",
      "Precision: 0.7148\n",
      "Recall: 0.9422\n",
      "Specificity: 0.6241\n",
      "F1 Score: 0.8128\n",
      "NPV: 0.9155\n"
     ]
    }
   ],
   "source": [
    "import re\n",
    "\n",
    "# 读取文件内容\n",
    "file_path = \"exam-code\\onehot+ncp\"\n",
    "with open(file_path, 'r', encoding='utf-8') as file:\n",
    "    content = file.read()\n",
    "\n",
    "# 定义用于提取的正则表达式\n",
    "metrics = {\n",
    "    \"Accuracy\": r\"acc ([0-9.]+)\",\n",
    "    \"Precision\": r\"PPV ([0-9.]+)\",\n",
    "    \"Recall\": r\"recall ([0-9.]+)\",\n",
    "    \"Specificity\": r\"specificity ([0-9.]+)\",\n",
    "    \"F1 Score\": r\"f1 ([0-9.]+)\",\n",
    "    \"NPV\": r\"NPV ([0-9.]+)\"\n",
    "}\n",
    "\n",
    "# 初始化存储指标值的字典\n",
    "results = {key: [] for key in metrics.keys()}\n",
    "\n",
    "# 提取每个指标的值\n",
    "for key, pattern in metrics.items():\n",
    "    matches = re.findall(pattern, content)\n",
    "    if matches:\n",
    "        results[key] = [float(value) for value in matches]\n",
    "\n",
    "# 计算平均值\n",
    "averages = {key: sum(values) / len(values) if values else None for key, values in results.items()}\n",
    "\n",
    "# 输出结果\n",
    "print(\"各指标平均值:\")\n",
    "for key, avg in averages.items():\n",
    "    print(f\"{key}: {avg:.4f}\" if avg is not None else f\"{key}: 无数据\")\n"
   ]
  }
 ],
 "metadata": {
  "kernelspec": {
   "display_name": "MJnet",
   "language": "python",
   "name": "python3"
  },
  "language_info": {
   "codemirror_mode": {
    "name": "ipython",
    "version": 3
   },
   "file_extension": ".py",
   "mimetype": "text/x-python",
   "name": "python",
   "nbconvert_exporter": "python",
   "pygments_lexer": "ipython3",
   "version": "3.9.20"
  }
 },
 "nbformat": 4,
 "nbformat_minor": 2
}
